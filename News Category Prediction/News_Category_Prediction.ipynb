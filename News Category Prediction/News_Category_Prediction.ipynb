{
  "cells": [
    {
      "cell_type": "markdown",
      "metadata": {
        "id": "Yy7BJg-JDN_N"
      },
      "source": [
        "# Predicting the Category of a News Article from its Headline & Description"
      ]
    },
    {
      "cell_type": "markdown",
      "metadata": {
        "id": "NwaSwIAxDMLx"
      },
      "source": [
        "## Imports"
      ]
    },
    {
      "cell_type": "code",
      "execution_count": null,
      "metadata": {
        "id": "geczhoKVDMLx",
        "trusted": true
      },
      "outputs": [],
      "source": [
        "# Classic imports\n",
        "import pandas as pd\n",
        "import numpy as np\n",
        "import seaborn as sns\n",
        "import matplotlib.pyplot as plt\n",
        "\n",
        "\n",
        "# Huggingface\n",
        "import transformers\n",
        "\n",
        "# TensorFlow\n",
        "import tensorflow as tf\n",
        "from tensorflow import keras\n",
        "from keras.preprocessing.text import Tokenizer\n",
        "from keras.callbacks import ModelCheckpoint\n",
        "from tensorflow.keras.preprocessing.sequence import pad_sequences\n",
        "from tensorflow.keras.utils import to_categorical\n",
        "from keras.layers import Embedding, Flatten, Dense, Dropout\n",
        "from keras.layers import Conv1D, SimpleRNN, Bidirectional, MaxPooling1D, GlobalMaxPool1D, LSTM, GRU\n",
        "from keras.models import Sequential\n",
        "from keras.regularizers import L1L2\n",
        "\n",
        "# Sklearn\n",
        "import sklearn\n",
        "from sklearn.preprocessing import LabelEncoder\n",
        "from sklearn.model_selection import train_test_split, cross_val_score\n",
        "from sklearn.metrics import confusion_matrix\n",
        "\n",
        "# More NLP imports\n",
        "import nltk\n",
        "from wordcloud import WordCloud, STOPWORDS\n",
        "from nltk.corpus import stopwords\n",
        "from nltk.stem.wordnet import WordNetLemmatizer\n",
        "\n",
        "# Other\n",
        "import os\n",
        "import re"
      ]
    },
    {
      "cell_type": "markdown",
      "metadata": {
        "id": "WoEIU7BJDMLy"
      },
      "source": [
        "## Loading Data, Exploratory Data Analysis (EDA), and Data Preprocessing"
      ]
    },
    {
      "cell_type": "code",
      "execution_count": null,
      "metadata": {
        "id": "IdkqbzizDMLy",
        "trusted": true
      },
      "outputs": [],
      "source": [
        "df = pd.read_json('News_Category_Dataset_v3.json', lines = True)\n",
        "df.head()"
      ]
    },
    {
      "cell_type": "code",
      "execution_count": null,
      "metadata": {
        "id": "m7CqTy-9DMLy",
        "trusted": true
      },
      "outputs": [],
      "source": [
        "df.shape"
      ]
    },
    {
      "cell_type": "code",
      "execution_count": null,
      "metadata": {
        "id": "l9BBXFNPDMLy",
        "trusted": true
      },
      "outputs": [],
      "source": [
        "# Merge duplicate category\n",
        "df['category'] = df['category'].map(lambda x: \"WORLDPOST\" if x == \"THE WORLDPOST\" else x)\n",
        "\n",
        "# One-hot Encoding Category\n",
        "encoder = LabelEncoder()\n",
        "df['category_encoded'] = encoder.fit_transform(df['category'])\n",
        "\n",
        "# Convert to lowercase\n",
        "df['headline'] = df['headline'].apply(lambda x: str(x).lower())\n",
        "df['short_description'] = df['short_description'].apply(lambda x: str(x).lower())\n",
        "\n",
        "# Get number of words (length) for EDA\n",
        "df['len_h'] = df['headline'].apply(lambda x: len(str(x).split()))\n",
        "df['len_sd'] = df['short_description'].apply(lambda x: len(str(x).split()))"
      ]
    },
    {
      "cell_type": "code",
      "execution_count": null,
      "metadata": {
        "id": "0CXk0lajDMLy",
        "trusted": true
      },
      "outputs": [],
      "source": [
        "df.describe() # Full stats"
      ]
    },
    {
      "cell_type": "code",
      "execution_count": null,
      "metadata": {
        "id": "uDXjULKjDMLy",
        "trusted": true
      },
      "outputs": [],
      "source": [
        "# For stats figure\n",
        "df.describe()[['len_d', 'len_h']].rename(columns={'len_d':'Description Length', 'len_h':'Headline Length'}).loc[['count', 'mean', 'std', 'min', '50%', 'max']]"
      ]
    },
    {
      "cell_type": "code",
      "execution_count": null,
      "metadata": {
        "id": "yOTCoBwYDMLy",
        "trusted": true
      },
      "outputs": [],
      "source": [
        "# Histogram for EDA figures\n",
        "ax = sns.histplot(df['len_h'], bins=45)\n",
        "ax.set_xlabel('Number of Words in Headline Text')\n",
        "plt.xlim(-2, 32)"
      ]
    },
    {
      "cell_type": "code",
      "execution_count": null,
      "metadata": {
        "id": "4bGLa5WJDMLy",
        "trusted": true
      },
      "outputs": [],
      "source": [
        "# Histogram\n",
        "ax = sns.histplot(df['descr_len'], bins=80)\n",
        "ax.set_xlabel('Number of Words in Short Description')\n",
        "plt.xlim(-5, 100)"
      ]
    },
    {
      "cell_type": "code",
      "execution_count": null,
      "metadata": {
        "id": "9Y7MWbaEDMLy",
        "trusted": true
      },
      "outputs": [],
      "source": [
        "# Top categories figure\n",
        "categories = pd.DataFrame(df['category'].value_counts()).reset_index().rename(columns={'index':'categories','category':'n_c'})\n",
        "\n",
        "# Visualize top 10 categories and proportion of each categories in dataset\n",
        "top_n = 10\n",
        "plt.figure(figsize=(10,6))\n",
        "ax = sns.barplot(np.array(cat_df.news_classes)[:top_n], np.array(cat_df.numcat)[:top_n])\n",
        "plt.xlabel(\"News Categories\")\n",
        "plt.xticks(rotation=45) # For better visibility\n",
        "plt.ylabel(\"Count per Category\")\n",
        "plt.show()"
      ]
    },
    {
      "cell_type": "code",
      "execution_count": null,
      "metadata": {
        "id": "2W3vCkVpDMLy",
        "trusted": true
      },
      "outputs": [],
      "source": [
        "# Total words\n",
        "df['len_d'].sum() + df['len_h'].sum()"
      ]
    },
    {
      "cell_type": "code",
      "execution_count": null,
      "metadata": {
        "id": "J0Qt4xefDMLy",
        "trusted": true
      },
      "outputs": [],
      "source": [
        "# Desc. words\n",
        "df['len_d'].sum()"
      ]
    },
    {
      "cell_type": "code",
      "execution_count": null,
      "metadata": {
        "id": "WCVnO_KzDMLy",
        "trusted": true
      },
      "outputs": [],
      "source": [
        "# Headline words\n",
        "df['len_h'].sum()"
      ]
    },
    {
      "cell_type": "code",
      "execution_count": null,
      "metadata": {
        "id": "OG5OXDTnDMLy",
        "trusted": true
      },
      "outputs": [],
      "source": [
        "# Word Cloud Figure\n",
        "all_headline_text = ' '.join(df['headline'].dropna())\n",
        "wordcloud = WordCloud(width=800, height=400, background_color='white').generate(all_headline_text)\n",
        "plt.figure(figsize=(10, 6))\n",
        "plt.imshow(wordcloud, interpolation='bilinear')\n",
        "plt.axis('off')\n",
        "plt.show()"
      ]
    },
    {
      "cell_type": "code",
      "execution_count": null,
      "metadata": {
        "id": "1QQ-mFqzDMLy",
        "trusted": true
      },
      "outputs": [],
      "source": [
        "# For convenience, merge both text columns\n",
        "# Also deals with missing values in the description column (there's always a headline though)\n",
        "df['short_description'] = df['headline'] + df['short_description']"
      ]
    },
    {
      "cell_type": "code",
      "execution_count": null,
      "metadata": {
        "id": "EU4m5pzSDMLy",
        "trusted": true
      },
      "outputs": [],
      "source": [
        "# Dataset split\n",
        "seed = 77 # Lucky number\n",
        "\n",
        "# Split into train (80) and temp (20)\n",
        "X_train, X_temp, y_train, y_temp = train_test_split(df['short_description'], df['category_encoded'], random_state = seed, test_size = 0.2)\n",
        "\n",
        "# Split temp into val (0.5 * 20 = 10) and test (0.5 * 20 = 10)\n",
        "X_val, X_test, y_val, y_test = train_test_split(X_temp, y_temp, random_state = seed, test_size = 0.5)"
      ]
    },
    {
      "cell_type": "code",
      "execution_count": null,
      "metadata": {
        "id": "jnqEHhtKDMLy",
        "trusted": true
      },
      "outputs": [],
      "source": [
        "# Get tokenizer\n",
        "tokenizer = transformers.BertTokenizer.from_pretrained('bert-base-uncased')"
      ]
    },
    {
      "cell_type": "code",
      "execution_count": null,
      "metadata": {
        "id": "xnPBGwgEDMLy",
        "trusted": true
      },
      "outputs": [],
      "source": [
        "# Tokenize Features and One-hot Encode Targets\n",
        "\n",
        "def _tokenize(text, tokenizer, max_length=512):\n",
        "    batch_encoded = tokenizer.batch_encode_plus(\n",
        "        texts,\n",
        "        return_token_type_ids=False,\n",
        "        pad_to_max_length=True,\n",
        "        max_length=max_length,\n",
        "        truncation=True\n",
        "    )\n",
        "    return np.array(batch_encoded['input_ids'])\n",
        "\n",
        "max_length = 80\n",
        "X_train_encoded = _tokenize(X_train.astype('str'), tokenizer, max_length=max_length)\n",
        "y_train_encoded = tf.keras.utils.to_categorical(y_train, num_classes=41,dtype = 'int32')\n",
        "X_val_encoded = _tokenize(X_test.astype('str'), tokenizer, max_length=max_length)\n",
        "y_val_encoded = tf.keras.utils.to_categorical(y_test, num_classes=41,dtype = 'int32')\n",
        "X_test_encoded = _tokenize(X_test.astype('str'), tokenizer, max_length=max_length)\n",
        "y_test_encoded = tf.keras.utils.to_categorical(y_test, num_classes=41,dtype = 'int32')"
      ]
    },
    {
      "cell_type": "markdown",
      "metadata": {
        "id": "wshBaSeLDMLy"
      },
      "source": [
        "## Models - BERT"
      ]
    },
    {
      "cell_type": "code",
      "execution_count": null,
      "metadata": {
        "id": "W_YiIIeEDMLz",
        "trusted": true
      },
      "outputs": [],
      "source": [
        "### Reference code: https://huggingface.co/google-bert/bert-base-uncased\n",
        "\n",
        "from transformers import BertTokenizer, TFBertModel\n",
        "\n",
        "\n",
        "# BERT pre-trained model\n",
        "bert_layer = TFBertModel.from_pretrained(\"bert-base-uncased\")\n",
        "\n",
        "\n",
        "loss='categorical_crossentropy'\n",
        "max_length=80\n",
        "num_classes=41\n",
        "drop_rate=0.2\n",
        "learning_rate=1e-3\n",
        "\n",
        "input_ids = tf.keras.layers.Input(shape=(max_length,), dtype=tf.int32, name=\"input_ids\")\n",
        "output_seq = bert_layer(input_ids)[0] # Output from BERT\n",
        "\n",
        "cls = sequence_output[:, 0, :]\n",
        "x = tf.keras.layers.Dropout(drop_rate)(cls)\n",
        "outputs = tf.keras.layers.Dense(num_classes, activation='softmax')(x)\n",
        "\n",
        "model = tf.keras.Model(inputs=input_ids, outputs=outputs)\n",
        "model.compile(tf.keras.optimizers.Adam(learning_rate=learning_rate),\n",
        "              loss=loss,\n",
        "              metrics=['accuracy'])"
      ]
    },
    {
      "cell_type": "code",
      "execution_count": null,
      "metadata": {
        "id": "u2s_MFCvDMLz",
        "trusted": true
      },
      "outputs": [],
      "source": [
        "# Datasets\n",
        "batch_size = 32\n",
        "train_dataset = (\n",
        "    tf.data.Dataset\n",
        "    .from_tensor_slices((X_train_encoded, y_train_encoded))\n",
        "    .repeat()\n",
        "    .shuffle(2048)\n",
        "    .batch(batch_size)\n",
        ")\n",
        "\n",
        "val_dataset = (\n",
        "    tf.data.Dataset\n",
        "    .from_tensor_slices(X_val_encoded, y_val_encoded)\n",
        "    .batch(batch_size)\n",
        ")\n",
        "\n",
        "test_dataset = (\n",
        "    tf.data.Dataset\n",
        "    .from_tensor_slices(X_test_encoded, y_test_encoded)\n",
        "    .batch(batch_size)\n",
        ")"
      ]
    },
    {
      "cell_type": "code",
      "execution_count": null,
      "metadata": {
        "id": "krgLQs3aDMLz",
        "trusted": true
      },
      "outputs": [],
      "source": [
        "# Training\n",
        "num_epochs = 10\n",
        "n_steps = X_train_encoded.shape[0] // batch_size\n",
        "model.fit(train_dataset, steps_per_epoch=n_steps, epochs=num_epochs, validation_data=val_dataset)"
      ]
    },
    {
      "cell_type": "code",
      "execution_count": null,
      "metadata": {
        "id": "HGffOQ3xDMLz",
        "trusted": true
      },
      "outputs": [],
      "source": [
        "# Evaluation\n",
        "preds = model.predict(test_dataset, verbose=1)\n",
        "pred_classes = np.argmax(preds, axis=1)\n",
        "id_to_category = encoder.classes_\n",
        "y_test_pred = [id_to_category[p] for p in pred_classes]\n",
        "y_test_true = [id_to_category[t] for t in y_test]\n",
        "acc = sklearn.metrics.accuracy_score(y_test_true, y_test_pred)\n",
        "acc"
      ]
    },
    {
      "cell_type": "markdown",
      "metadata": {
        "id": "MSB3TNvMDMLz"
      },
      "source": [
        "## Models - DistilBERT"
      ]
    },
    {
      "cell_type": "markdown",
      "metadata": {
        "id": "z01qcjuVDMLz"
      },
      "source": [
        "Similar to BERT"
      ]
    },
    {
      "cell_type": "code",
      "execution_count": null,
      "metadata": {
        "id": "zxVa72JnDMLz",
        "trusted": true
      },
      "outputs": [],
      "source": [
        "## REFERENCE CODE: https://huggingface.co/distilbert/distilbert-base-uncased\n",
        "\n",
        "# DistilBERT pre-trained model\n",
        "from transformers import DistilBertTokenizer, TFDistilBertModel\n",
        "tokenizer = DistilBertTokenizer.from_pretrained('distilbert-base-uncased')\n",
        "bert_layer = TFDistilBertModel.from_pretrained(\"distilbert-base-uncased\")\n",
        "\n",
        "loss='categorical_crossentropy'\n",
        "max_length=80\n",
        "num_classes=41\n",
        "drop_rate=0.2\n",
        "learning_rate=1e-3\n",
        "\n",
        "input_ids = tf.keras.layers.Input(shape=(max_length,), dtype=tf.int32, name=\"input_ids\")\n",
        "output_seq = bert_layer(input_ids)[0] # Output from BERT\n",
        "\n",
        "cls = sequence_output[:, 0, :]\n",
        "x = tf.keras.layers.Dropout(drop_rate)(cls)\n",
        "outputs = tf.keras.layers.Dense(num_classes, activation='softmax')(x)\n",
        "\n",
        "model = tf.keras.Model(inputs=input_ids, outputs=outputs)\n",
        "model.compile(tf.keras.optimizers.Adam(learning_rate=learning_rate),\n",
        "              loss=loss,\n",
        "              metrics=['accuracy'])\n",
        "\n",
        "# Training\n",
        "num_epochs = 10\n",
        "n_steps = X_train_encoded.shape[0] // batch_size\n",
        "model.fit(train_dataset, steps_per_epoch=n_steps, epochs=num_epochs, validation_data=val_dataset)\n",
        "\n",
        "# Evaluation\n",
        "preds = model.predict(test_dataset, verbose=1)\n",
        "pred_classes = np.argmax(preds, axis=1)\n",
        "id_to_category = encoder.classes_\n",
        "y_test_pred = [id_to_category[p] for p in pred_classes]\n",
        "y_test_true = [id_to_category[t] for t in y_test]\n",
        "acc = sklearn.metrics.accuracy_score(y_test_true, y_test_pred)\n",
        "acc"
      ]
    },
    {
      "cell_type": "markdown",
      "metadata": {
        "id": "tx1G1h9iDMLz"
      },
      "source": [
        "## Data Pre-Processing specifically for Baselines"
      ]
    },
    {
      "cell_type": "code",
      "execution_count": null,
      "metadata": {
        "id": "oALBQvcQDMLz",
        "trusted": true
      },
      "outputs": [],
      "source": [
        "df = pd.read_json('News_Category_Dataset_v3.json', lines = True)\n",
        "df.head()"
      ]
    },
    {
      "cell_type": "code",
      "execution_count": null,
      "metadata": {
        "id": "Pl0MozETDMLz",
        "trusted": true
      },
      "outputs": [],
      "source": [
        "df.shape"
      ]
    },
    {
      "cell_type": "code",
      "execution_count": null,
      "metadata": {
        "id": "k7_mDop8DMLz",
        "trusted": true
      },
      "outputs": [],
      "source": [
        "# Merge duplicate category\n",
        "df['category'] = df['category'].map(lambda x: \"WORLDPOST\" if x == \"THE WORLDPOST\" else x)\n",
        "\n",
        "# One-hot Encoding Category\n",
        "encoder = LabelEncoder()\n",
        "df['category_encoded'] = encoder.fit_transform(df['category'])\n",
        "\n",
        "# Convert to lowercase\n",
        "df['headline'] = df['headline'].apply(lambda x: str(x).lower())\n",
        "df['short_description'] = df['short_description'].apply(lambda x: str(x).lower())\n",
        "\n",
        "# Drop duplicates\n",
        "df.drop_duplicates(keep='last', inplace=True)\n",
        "\n",
        "# Like before, merge short description and headline\n",
        "df['short_description'] = df['headline'].astype(str) + df['short_description'].astype(str)\n",
        "df.drop(columns =['headline','short_description'],axis=1, inplace=True)\n",
        "df.astype(str)\n",
        "df.head()"
      ]
    },
    {
      "cell_type": "code",
      "execution_count": null,
      "metadata": {
        "id": "B9dD_e1JDMLz",
        "trusted": true
      },
      "outputs": [],
      "source": [
        "# Dataset split\n",
        "seed = 77 # Lucky number\n",
        "\n",
        "# Split into train (80) and temp (20)\n",
        "X_train, X_temp, y_train, y_temp = train_test_split(df['short_description'], df['category'], random_state = seed, test_size = 0.2)\n",
        "\n",
        "# Split temp into val (0.5 * 20 = 10) and test (0.5 * 20 = 10)\n",
        "X_val, X_test, y_val, y_test = train_test_split(X_temp, y_temp, random_state = seed, test_size = 0.5)"
      ]
    },
    {
      "cell_type": "code",
      "execution_count": null,
      "metadata": {
        "id": "9iI5sj2VDMLz",
        "trusted": true
      },
      "outputs": [],
      "source": [
        "# Padding and Tokenization\n",
        "\n",
        "vocab_size = 200000\n",
        "max_length = 100\n",
        "trunc_type='post'\n",
        "padding_type='post'\n",
        "oov = \"<OOV>\"\n",
        "\n",
        "tokenizer = tf.keras.preprocessing.text.Tokenizer(num_words = vocab_size, oov_token=oov)\n",
        "tokenizer.fit_on_texts(X_train)\n",
        "\n",
        "word_index = tokenizer.word_index\n",
        "\n",
        "X_train = tokenizer.texts_to_sequences(X_train)\n",
        "X_train = pad_sequences(X_train,maxlen= max_length,padding=padding_type, truncating=trunc_type)\n",
        "\n",
        "y_train = np.asarray(y_train)\n",
        "y_train = pd.get_dummies(y_train)\n",
        "\n",
        "X_val = tokenizer.texts_to_sequences(X_val)\n",
        "X_val = pad_sequences(X_val,maxlen= max_length,padding=padding_type, truncating=trunc_type)\n",
        "\n",
        "y_val = np.asarray(y_val)\n",
        "y_val = pd.get_dummies(y_val)\n",
        "\n",
        "X_train = np.array(X_train)\n",
        "y_train = np.array(y_train)\n",
        "\n",
        "X_val = np.array(X_val)\n",
        "y_val = np.array(y_val)\n",
        "\n",
        "y_test = pd.get_dummies(y_test)\n",
        "y_test = np.asarray(y_test)\n",
        "y_test = np.argmax(y_test,axis=1)"
      ]
    },
    {
      "cell_type": "code",
      "execution_count": null,
      "metadata": {
        "id": "MO6C93ETDMLz",
        "trusted": true
      },
      "outputs": [],
      "source": [
        "# Get GloVe embeddings\n",
        "!wget http://nlp.stanford.edu/data/glove.6B.zip\n",
        "!unzip -q glove.6B.zip"
      ]
    },
    {
      "cell_type": "code",
      "execution_count": null,
      "metadata": {
        "id": "l7MVPJTrDMLz",
        "trusted": true
      },
      "outputs": [],
      "source": [
        "# Setting up GloVe embeddings\n",
        "glove_path =  './glove.6B.100d.txt'\n",
        "num_tokens = len(tokenizer.word_index.items()) + 2\n",
        "embed_dim = 100\n",
        "embeddings_index = {}\n",
        "\n",
        "with open(glove_path) as f:\n",
        "    for line in f:\n",
        "        word, coefs = line.split(maxsplit=1)\n",
        "        coefs = np.fromstring(coefs, \"f\", sep=\" \")\n",
        "        embeddings_index[word] = coefs\n",
        "\n",
        "embedding_matrix = np.zeros((num_tokens, embed_dim))\n",
        "for word, i in tokenizer.word_index.items():\n",
        "    embedding_vector = embeddings_index.get(word)\n",
        "    if embedding_vector is not None:\n",
        "        embedding_matrix[i] = embedding_vector"
      ]
    },
    {
      "cell_type": "markdown",
      "metadata": {
        "id": "cFW2jeloDMLz"
      },
      "source": [
        "## Baselines - LSTM"
      ]
    },
    {
      "cell_type": "code",
      "execution_count": null,
      "metadata": {
        "id": "6Kqy8QreDMLz",
        "trusted": true
      },
      "outputs": [],
      "source": [
        "num_neurons = 128\n",
        "embed_dim = 100\n",
        "drop_rate = 0.2\n",
        "learning_rate = 1e-3\n",
        "num_epochs = 20\n",
        "batch_size = 32\n",
        "num_classes = 41\n",
        "model = keras.models.Sequential([\n",
        "    Embedding(num_tokens,\n",
        "              embed_dim,\n",
        "              embeddings_initializer=keras.initializers.Constant(embedding_matrix),\n",
        "              mask_zero=True,\n",
        "              input_shape=[None],\n",
        "              trainable=False),\n",
        "    keras.layers.Bidirectional(keras.layers.LSTM(num_neurons, dropout=drop_rate)),\n",
        "    keras.layers.Dense(num_classes, activation=\"softmax\")\n",
        "])\n",
        "\n",
        "# Training\n",
        "optimizer = keras.optimizers.Adam(learning_rate=learning_rate)\n",
        "model.compile(loss=\"categorical_crossentropy\", optimizer=optimizer, metrics=[\"accuracy\"])\n",
        "history = model.fit(X_train,\n",
        "                    y_train,\n",
        "                    batch_size=batch_size,\n",
        "                    steps_per_epoch=len(X_train) // batch_size,\n",
        "                    validation_data = (X_val, y_val),\n",
        "                    validation_steps = len(X_val) // batch_size,\n",
        "                    epochs=num_epochs)\n",
        "\n",
        "# Evaluation\n",
        "categories = dataset['category'].value_counts().index\n",
        "\n",
        "def prediction(inference_data):\n",
        "    X = tokenizer.texts_to_sequences(inference_data)\n",
        "    X = pad_sequences(X,maxlen= max_length,padding=padding_type, truncating=trunc_type)\n",
        "    pred = model.predict(X)\n",
        "    pred_value = tf.argmax(pred,axis =1).numpy()\n",
        "    return pred_value\n",
        "\n",
        "y_test_pred = prediction(X_test)\n",
        "acc = sklearn.metrics.accuracy_score(y_test_true, y_test_pred)\n",
        "acc"
      ]
    },
    {
      "cell_type": "markdown",
      "metadata": {
        "id": "MAOW7MnkDML2"
      },
      "source": [
        "## Baselines - RNN"
      ]
    },
    {
      "cell_type": "code",
      "execution_count": null,
      "metadata": {
        "id": "vb45kthPDML2",
        "trusted": true
      },
      "outputs": [],
      "source": [
        "vocab_size = 200000\n",
        "embed_dim = 64\n",
        "num_neurons = 64\n",
        "drop_rate = 0.2\n",
        "num_classes = 41\n",
        "batch_size = 32\n",
        "num_epochs = 20\n",
        "\n",
        "model = keras.models.Sequential([\n",
        "    Embedding(num_tokens,\n",
        "              embed_dim,\n",
        "              embeddings_initializer=keras.initializers.Constant(embedding_matrix),\n",
        "              mask_zero=True,\n",
        "              input_shape=[None],\n",
        "              trainable=False),\n",
        "    Bidirectional(SimpleRNN(num_neurons, dropout=drop_rate, recurrent_dropout=drop_rate, activation='tanh', return_sequences=True)),\n",
        "    Bidirectional(SimpleRNN(num_neurons, dropout=drop_rate, recurrent_dropout=drop_rate, activation='tanh', return_sequences=True)),\n",
        "    SimpleRNN(num_neurons // 2, activation='tanh'),\n",
        "    Dropout(drop_rate),\n",
        "    Dense(num_classes, activation='softmax')\n",
        "])\n",
        "\n",
        "# Training\n",
        "optimizer = keras.optimizers.Adam(learning_rate=learning_rate)\n",
        "model.compile(loss=\"categorical_crossentropy\", optimizer=optimizer, metrics=[\"accuracy\"])\n",
        "history = model.fit(X_train,\n",
        "                    y_train,\n",
        "                    batch_size=batch_size,\n",
        "                    steps_per_epoch=len(X_train) // batch_size,\n",
        "                    validation_data = (X_val, y_val),\n",
        "                    validation_steps = len(X_val) // batch_size,\n",
        "                    epochs=num_epochs)\n",
        "\n",
        "# Evaluation\n",
        "categories = dataset['category'].value_counts().index\n",
        "\n",
        "def prediction(inference_data):\n",
        "    X = tokenizer.texts_to_sequences(inference_data)\n",
        "    X = pad_sequences(X,maxlen= max_length,padding=padding_type, truncating=trunc_type)\n",
        "    pred = model.predict(X)\n",
        "    pred_value = tf.argmax(pred,axis =1).numpy()\n",
        "    return pred_value\n",
        "\n",
        "y_test_pred = prediction(X_test)\n",
        "acc = sklearn.metrics.accuracy_score(y_test_true, y_test_pred)\n",
        "acc"
      ]
    }
  ],
  "metadata": {
    "colab": {
      "provenance": []
    },
    "kaggle": {
      "accelerator": "none",
      "dataSources": [],
      "dockerImageVersionId": 30804,
      "isGpuEnabled": false,
      "isInternetEnabled": true,
      "language": "python",
      "sourceType": "notebook"
    },
    "kernelspec": {
      "display_name": "Python 3",
      "language": "python",
      "name": "python3"
    },
    "language_info": {
      "codemirror_mode": {
        "name": "ipython",
        "version": 3
      },
      "file_extension": ".py",
      "mimetype": "text/x-python",
      "name": "python",
      "nbconvert_exporter": "python",
      "pygments_lexer": "ipython3",
      "version": "3.10.14"
    }
  },
  "nbformat": 4,
  "nbformat_minor": 0
}
